{
  "nbformat": 4,
  "nbformat_minor": 0,
  "metadata": {
    "colab": {
      "provenance": [],
      "collapsed_sections": [
        "gu4jU2QMiZx-"
      ]
    },
    "kernelspec": {
      "name": "python3",
      "display_name": "Python 3"
    },
    "language_info": {
      "name": "python"
    }
  },
  "cells": [
    {
      "cell_type": "markdown",
      "source": [
        "# Biopharma Case\n",
        "##### Submission by: Alejandro Ch., Lin Yeh, SJ Ahn, David L., Deep Goon"
      ],
      "metadata": {
        "id": "RcQfqwv1c79c"
      }
    },
    {
      "cell_type": "markdown",
      "source": [
        "### Exchange Rate Setup"
      ],
      "metadata": {
        "id": "NwAKrIKcd_07"
      }
    },
    {
      "cell_type": "code",
      "execution_count": null,
      "metadata": {
        "id": "CGgpEmqGcWGd",
        "colab": {
          "base_uri": "https://localhost:8080/"
        },
        "outputId": "b869127b-0593-4eba-bea8-63a9aea4e625"
      },
      "outputs": [
        {
          "output_type": "stream",
          "name": "stdout",
          "text": [
            "Requirement already satisfied: forex_python in /usr/local/lib/python3.10/dist-packages (1.8)\n",
            "Requirement already satisfied: requests in /usr/local/lib/python3.10/dist-packages (from forex_python) (2.31.0)\n",
            "Requirement already satisfied: simplejson in /usr/local/lib/python3.10/dist-packages (from forex_python) (3.19.2)\n",
            "Requirement already satisfied: charset-normalizer<4,>=2 in /usr/local/lib/python3.10/dist-packages (from requests->forex_python) (3.3.2)\n",
            "Requirement already satisfied: idna<4,>=2.5 in /usr/local/lib/python3.10/dist-packages (from requests->forex_python) (3.6)\n",
            "Requirement already satisfied: urllib3<3,>=1.21.1 in /usr/local/lib/python3.10/dist-packages (from requests->forex_python) (2.0.7)\n",
            "Requirement already satisfied: certifi>=2017.4.17 in /usr/local/lib/python3.10/dist-packages (from requests->forex_python) (2024.2.2)\n"
          ]
        }
      ],
      "source": [
        "!pip install forex_python\n",
        "\n",
        "from forex_python.converter import CurrencyRates\n",
        "from datetime import datetime, timedelta\n",
        "\n",
        "import numpy as np\n",
        "import pandas as pd\n",
        "from scipy.stats import multivariate_normal\n"
      ]
    },
    {
      "cell_type": "code",
      "source": [
        "def get_monthly_exchange_rates(start_year, end_year, base_currency, target_currencies):\n",
        "    # Initializing a currency rates object\n",
        "    c = CurrencyRates()\n",
        "\n",
        "    # Key-value pairs of currency and its respective rates\n",
        "    rates = {currency: [] for currency in target_currencies}\n",
        "\n",
        "    # Generate a list of first day of each month in the specified range\n",
        "    start_date = datetime(start_year, 1, 1)\n",
        "    end_date = datetime(end_year, 12, 31)\n",
        "    current_date = start_date\n",
        "\n",
        "    # While current date is earlier than the end date, continue the while loop\n",
        "    while current_date <= end_date:\n",
        "        for currency in target_currencies: # each currency is its own loop\n",
        "            try:\n",
        "                # Get exchange rate for the first day of the month\n",
        "                rate = c.get_rate(base_currency, currency, current_date)\n",
        "                # strftime converts to YYYY-MM -> 2024-02\n",
        "                rates[currency].append((current_date.strftime(\"%Y-%m\"), rate)) # append a tuple of date and the rate in that specific day\n",
        "            except Exception as e:\n",
        "                print(f\"Error fetching rate for {currency} on {current_date.strftime('%Y-%m')}: {e}\")\n",
        "                rates[currency].append((current_date.strftime(\"%Y-%m\"), None)) # if no rate was available on that day, then append the date and None\n",
        "\n",
        "        # Move to the first day of the next month\n",
        "        if current_date.month == 12:\n",
        "            current_date = datetime(current_date.year + 1, 1, 1)\n",
        "        else:\n",
        "            current_date = datetime(current_date.year, current_date.month + 1, 1)\n",
        "\n",
        "    return rates"
      ],
      "metadata": {
        "id": "whUMz9z9eaQB"
      },
      "execution_count": null,
      "outputs": []
    },
    {
      "cell_type": "code",
      "source": [
        "# Specify the currencies\n",
        "base_currency = \"USD\"\n",
        "target_currencies = [\"BRL\", \"EUR\", \"INR\", \"JPY\", \"MXN\"]\n",
        "\n",
        "# Fetch exchange rates from Jan 2019 to Dec 2023\n",
        "exchange_rates = get_monthly_exchange_rates(2019, 2023, base_currency, target_currencies)\n",
        "\n",
        "# Print the rates\n",
        "for currency, rates in exchange_rates.items():\n",
        "    print(f\"Exchange rates for {currency} against {base_currency}:\")\n",
        "    for date, rate in rates:\n",
        "        print(f\"{date}: {rate}\")\n",
        "    print(\"\\n\")"
      ],
      "metadata": {
        "id": "aAI8NE8CegIx"
      },
      "execution_count": null,
      "outputs": []
    },
    {
      "cell_type": "code",
      "source": [
        "data = []\n",
        "for currency, rates in exchange_rates.items():\n",
        "    for date, rate in rates:\n",
        "        data.append({\n",
        "            'Date': date,\n",
        "            'Currency': currency,\n",
        "            'Exchange Rate': rate\n",
        "        })\n",
        "\n",
        "# Create DataFrame\n",
        "df = pd.DataFrame(data)\n",
        "\n",
        "# Pivot the DataFrame to make 'Date' the index and 'Currency' the columns\n",
        "df_pivoted = df.pivot(index='Date', columns='Currency', values='Exchange Rate')\n",
        "\n",
        "# Display the pivoted DataFrame\n",
        "exrates = df_pivoted[df_pivoted.index.str[-2:]=='01']\n",
        "\n",
        "exrates = exrates.transpose()\n",
        "\n",
        "exrates.loc[\"USD\"] = [1] * len(exrates.columns)\n",
        "\n",
        "print(exrates)"
      ],
      "metadata": {
        "id": "ebvaq8oArszO",
        "colab": {
          "base_uri": "https://localhost:8080/"
        },
        "outputId": "2af06fb1-fa84-484d-a4e8-3e6483ea6dd4"
      },
      "execution_count": null,
      "outputs": [
        {
          "output_type": "stream",
          "name": "stdout",
          "text": [
            "Date         2019-01     2020-01     2021-01     2022-01     2023-01\n",
            "Currency                                                            \n",
            "BRL         3.881223    4.019672    5.193953    5.571340    5.286518\n",
            "EUR         0.873362    0.890155    0.814930    0.882924    0.937559\n",
            "INR        69.633013   71.378850   73.066987   74.368003   82.665479\n",
            "JPY       109.912664  108.545487  103.080434  115.115663  131.876992\n",
            "MXN        19.643755   18.889265   19.897319   20.434222   19.553722\n",
            "USD         1.000000    1.000000    1.000000    1.000000    1.000000\n"
          ]
        }
      ]
    },
    {
      "cell_type": "code",
      "source": [
        "# Convert the data into a NumPy array for analysis\n",
        "# Note: This example assumes all currencies have the same number of rates and ignores missing values\n",
        "\n",
        "# all() -> returns True if all items in an iterable are true, otherwise it returns False.\n",
        "\n",
        "# Extract rates for each currency, ensuring they're in the same order for each month\n",
        "rates_list = [rates for rates in exchange_rates.values() if all(rate is not None for _, rate in rates)]\n",
        "currency_data = np.array([[rate for _, rate in currency_rates] for currency_rates in rates_list])\n",
        "\n",
        "# Transpose to get rows as observations (dates) and columns as variables (currencies)\n",
        "currency_data = currency_data.T\n",
        "\n",
        "# Ensure no NaN values; this method requires complete data\n",
        "if np.isnan(currency_data).any():\n",
        "    print(\"Data contains NaN values. Please handle missing data before proceeding.\")\n",
        "else:\n",
        "    # Estimate the mean and covariance\n",
        "    mean_vector = np.mean(currency_data, axis=0)\n",
        "    covariance_matrix = np.cov(currency_data, rowvar=False)\n",
        "\n",
        "    # Fit the multivariate normal distribution\n",
        "    mvn_distribution = multivariate_normal(mean=mean_vector, cov=covariance_matrix)\n",
        "\n",
        "    print(\"Mean Vector:\\n\", mean_vector)\n",
        "    print(\"Covariance Matrix:\\n\", covariance_matrix)\n",
        "    # The distribution is now defined and can be used for further analysis"
      ],
      "metadata": {
        "colab": {
          "base_uri": "https://localhost:8080/"
        },
        "id": "K3u2ojdZempT",
        "outputId": "791e6780-07df-4a22-ea0c-6b17deb96f70"
      },
      "execution_count": null,
      "outputs": [
        {
          "output_type": "stream",
          "name": "stdout",
          "text": [
            "Mean Vector:\n",
            " [  4.91679403   0.89791993  75.7301565  119.26608249  19.81262121]\n",
            "Covariance Matrix:\n",
            " [[ 3.42594387e-01 -2.13708474e-03  1.22952065e+00  1.27836101e+00\n",
            "   3.46111090e-01]\n",
            " [-2.13708474e-03  2.17002114e-03  1.24913080e-01  5.21137097e-01\n",
            "  -1.73246912e-02]\n",
            " [ 1.22952065e+00  1.24913080e-01  2.02929685e+01  6.06245515e+01\n",
            "  -2.53203458e+00]\n",
            " [ 1.27836101e+00  5.21137097e-01  6.06245515e+01  2.26189966e+02\n",
            "  -1.36106797e+01]\n",
            " [ 3.46111090e-01 -1.73246912e-02 -2.53203458e+00 -1.36106797e+01\n",
            "   2.22048686e+00]]\n"
          ]
        }
      ]
    },
    {
      "cell_type": "markdown",
      "source": [
        "### Optimization Model Setup"
      ],
      "metadata": {
        "id": "qFMJWSW1hp9c"
      }
    },
    {
      "cell_type": "code",
      "source": [
        "!pip install gurobipy\n",
        "!pip install tabulate\n",
        "\n",
        "import pandas as pd\n",
        "import numpy as np\n",
        "from gurobipy import Model, GRB, quicksum, LinExpr\n",
        "from tabulate import tabulate\n",
        "import datetime as dt\n",
        "_empty_series = pd.Series(dtype=float)"
      ],
      "metadata": {
        "colab": {
          "base_uri": "https://localhost:8080/"
        },
        "id": "XY2r1p6Ghz3A",
        "outputId": "5a18d715-7cc5-4d8b-8fcf-ffa93bc13b33"
      },
      "execution_count": null,
      "outputs": [
        {
          "output_type": "stream",
          "name": "stdout",
          "text": [
            "Requirement already satisfied: gurobipy in /usr/local/lib/python3.10/dist-packages (11.0.0)\n",
            "Requirement already satisfied: tabulate in /usr/local/lib/python3.10/dist-packages (0.9.0)\n"
          ]
        }
      ]
    },
    {
      "cell_type": "code",
      "source": [
        "selected_yr = 2023\n",
        "base_yr = 2019\n",
        "\n",
        "demand = pd.DataFrame({\n",
        "    'from': ['LatinAmerica', 'Europe', 'AsiaWoJapan', 'Japan', 'Mexico', 'U.S.'],\n",
        "    'd_h': [  7, 15,  5,  7,  3, 18], # Highcal demand\n",
        "    'd_r': [  7, 12,  3,  8,  3, 17], # Relax demand\n",
        "})\n",
        "demand.set_index('from', inplace=True) # sets the index to be the column from\n",
        "\n",
        "caps = pd.DataFrame({ # capacities\n",
        "    'plant': ['Brazil', 'Germany', 'India', 'Japan', 'Mexico', 'U.S.'],\n",
        "    'cap': [18, 45, 18, 10, 30, 22],\n",
        "})\n",
        "caps.set_index('plant', inplace=True)\n",
        "\n",
        "# Plant cost matrix -> Table 16.9\n",
        "pcosts = pd.DataFrame({\n",
        "    'plant': ['Brazil', 'Germany', 'India', 'Japan', 'Mexico', 'U.S.'],\n",
        "    'fc_p': [20, 45, 14, 13, 30, 23],\n",
        "    'fc_h': [ 5, 13,  3,  4,  6,  5],\n",
        "    'fc_r': [ 5, 13,  3,  4,  6,  5],\n",
        "    'rm_h': [3.6, 3.9, 3.6, 3.9, 3.6, 3.6],\n",
        "    'pc_h': [5.1, 6.0, 4.5, 6.0, 5.0, 5.0],\n",
        "    'rm_r': [4.6, 5.0, 4.5, 5.1, 4.6, 4.5],\n",
        "    'pc_r': [6.6, 7.0, 6.0, 7.0, 6.5, 6.5],\n",
        "})\n",
        "pcosts.set_index('plant', inplace=True)\n",
        "\n",
        "# Transportation costs -> Table 16.20\n",
        "tcosts = pd.DataFrame({\n",
        "    'from': ['Brazil', 'Germany', 'India', 'Japan', 'Mexico', 'U.S.'],\n",
        "    'LatinAmerica': [ 0.20, 0.45, 0.50, 0.50, 0.40, 0.45],\n",
        "    'Europe':       [ 0.45, 0.20, 0.35, 0.40, 0.30, 0.30],\n",
        "    'AsiaWoJapan':  [ 0.50, 0.35, 0.20, 0.30, 0.50, 0.45],\n",
        "    'Japan':        [ 0.50, 0.40, 0.30, 0.10, 0.45, 0.45],\n",
        "    'Mexico':       [ 0.40, 0.30, 0.50, 0.45, 0.20, 0.25],\n",
        "    'U.S.':           [ 0.45, 0.30, 0.45, 0.45, 0.25, 0.20],\n",
        "})\n",
        "tcosts.set_index('from', inplace=True)\n",
        "\n",
        "# Import duties -> Table 16.22\n",
        "duties = pd.DataFrame({\n",
        "    'from': ['LatinAmerica', 'Europe', 'AsiaWoJapan', 'Japan', 'Mexico', 'U.S.'],\n",
        "    'duty': [ 0.30, 0.03, 0.27, 0.06, 0.35, 0.04],\n",
        "})\n",
        "duties.set_index('from', inplace=True)\n",
        "\n",
        "# # Commented out to reflect the actual rates\n",
        "# exrate0 = {\n",
        "#     '2018': [3.88, 4.33, 69.63, 109.91, 19.64, 1],\n",
        "#     '2019': [4.33, 0.92, 71.48, 109.82, 18.65, 1],\n",
        "#     '2020': [5.19, 0.82, 73.66, 103.24, 19.90, 1],\n",
        "#     '2021': [5.26, 0.88, 74.28, 115.59, 20.62, 1],\n",
        "#     '2022': [5.29, 0.93, 82.75, 131.12, 19.48, 1],\n",
        "#     '2023': [4.85, 0.91, 83.04, 140.99, 16.96, 1],\n",
        "# }\n",
        "# exrate0 = pd.DataFrame(exrate0 , index=['BRL', 'EUR', 'INR', 'JPY', 'MXN', 'USD'])"
      ],
      "metadata": {
        "id": "0-U6E3SRiFlu"
      },
      "execution_count": null,
      "outputs": []
    },
    {
      "cell_type": "markdown",
      "source": [
        "#### Cost and Excess Functions"
      ],
      "metadata": {
        "id": "gi4zHKO2iSzD"
      }
    },
    {
      "cell_type": "code",
      "source": [
        "# identify number of supply and demand location for iterations\n",
        "n_ctry = range(demand.shape[0]) # number of countries\n",
        "n_lines = range(demand.shape[1]+1) # three options available, {0, 1},\n",
        "# 1. plant shut, open\n",
        "# 2. highcal off, on\n",
        "# 3. relax off, on\n",
        "\n",
        "# Objective function to calculate cost\n",
        "# dec -> represents decision variables\n",
        "def calc_total_cost(dec_plant, dec_h, dec_r, sampled_ex, base_yr=2019, tariff=0):\n",
        "    # reshape -> gives a new shape to an array without changing its data, changes shape of dictionary to a matrix\n",
        "    # Plants Open / Shut, Lines On / Off (B54:D59)\n",
        "    if isinstance(dec_plant, np.ndarray):\n",
        "      x_plant = np.array(list(dec_plant.flatten())).reshape(len(n_ctry), len(n_lines))\n",
        "    else:\n",
        "      x_plant = np.array(list(dec_plant.values())).reshape(len(n_ctry), len(n_lines))\n",
        "    # dec_h -> represents the quantities of highcal shipped from each supplier to each location (G54:L59)\n",
        "    x_h = np.array(list(dec_h.values())).reshape(len(n_ctry), len(n_ctry))\n",
        "    # dec_r -> represents the quantities of relax shipped from each supplier to each location (G63:L68)\n",
        "    x_r = np.array(list(dec_r.values())).reshape(len(n_ctry), len(n_ctry))\n",
        "\n",
        "    # Adjust the cost using exchange rate of give year\n",
        "    # Base model -> reindx = exrate.loc[:, f'{base_yr}'] / exrate.loc[:, f'{selected_yr}']\n",
        "    reindx = exrates.loc[:, f'{base_yr}-01'] / sampled_ex\n",
        "\n",
        "    pcosts_rev = pcosts.values * reindx.values.reshape(-1,1)\n",
        "    pcosts_rev = pd.DataFrame(pcosts_rev, columns=pcosts.columns[0:], index=pcosts.index)\n",
        "\n",
        "    # Matrix of the import duties, plus making the diagonals have no extra import duty hence equal to 1\n",
        "    duties_mat = np.zeros(len(duties)) + (1 + duties['duty'].values)[:, np.newaxis]\n",
        "    np.fill_diagonal(duties_mat, 1)\n",
        "\n",
        "    # For the context of the problem there are only tariffs between north america and europe\n",
        "    duties_mat = pd.DataFrame(duties_mat.T, index=pcosts_rev.index, columns=duties.index)\n",
        "    duties_mat.loc['Germany', 'U.S.'] += tariff\n",
        "    duties_mat.loc['U.S.', 'Europe']  += tariff\n",
        "\n",
        "    # Variable costs Highcal\n",
        "    vcosts_h = tcosts.add(pcosts_rev['rm_h'], axis=0).add(pcosts_rev['pc_h'], axis=0) * duties_mat\n",
        "    # Variable costs Relax\n",
        "    vcosts_r = tcosts.add(pcosts_rev['rm_r'], axis=0).add(pcosts_rev['pc_r'], axis=0) * duties_mat\n",
        "\n",
        "    fc = pcosts_rev[['fc_p','fc_h','fc_r']].values\n",
        "    vh = (vcosts_h * x_h).values\n",
        "    vr = (vcosts_r * x_r).values\n",
        "    total_cost = sum(0.2 * fc[i,j] for i in n_ctry for j in n_lines) + sum(0.8 * fc[i,j] * x_plant[i,j] for i in n_ctry for j in n_lines) + sum(vh[i,j] for i in n_ctry for j in n_ctry) + sum(vr[i,j] for i in n_ctry for j in n_ctry)\n",
        "\n",
        "    return total_cost\n",
        "\n",
        "\n",
        "\n",
        "\n",
        "# Calculate excess capacity given decision variables\n",
        "def calc_excess_cap(dec_plant, dec_h, dec_r):\n",
        "    condition = False\n",
        "    if isinstance(dec_plant, np.ndarray):\n",
        "      x_plant = np.array(list(dec_plant.flatten())).reshape(len(n_ctry), len(n_lines))\n",
        "      condition = True\n",
        "    else:\n",
        "      x_plant = np.array(list(dec_plant.values())).reshape(len(n_ctry), len(n_lines))\n",
        "\n",
        "    x_h = np.array(list(dec_h.values())).reshape(len(n_ctry), len(n_ctry))\n",
        "    x_r = np.array(list(dec_r.values())).reshape(len(n_ctry), len(n_ctry))\n",
        "\n",
        "    excess_cap = (x_plant * caps.values).copy()\n",
        "\n",
        "    if condition:\n",
        "      capacities = []\n",
        "      for i in range(6):\n",
        "        col = []\n",
        "        col.append(excess_cap[i][0] - (np.sum(x_h, axis=1) + np.sum(x_r, axis=1))[i])\n",
        "        col.append(excess_cap[i][1] - np.sum(x_h, axis=1)[i])\n",
        "        col.append(excess_cap[i][2] - np.sum(x_r, axis=1)[i])\n",
        "        capacities.append(col)\n",
        "      return np.array(capacities)\n",
        "    else:\n",
        "      excess_cap[:, 0] -= (np.sum(x_h, axis=1) + np.sum(x_r, axis=1))\n",
        "      excess_cap[:, 1] -= np.sum(x_h, axis=1)\n",
        "      excess_cap[:, 2] -= np.sum(x_r, axis=1)\n",
        "      return excess_cap\n",
        "\n",
        "# Calculate unmet demand given decision variables\n",
        "def calc_unmet_demand(dec_h, dec_r):\n",
        "    x_h = np.array(list(dec_h.values())).reshape(len(n_ctry), len(n_ctry))\n",
        "    x_r = np.array(list(dec_r.values())).reshape(len(n_ctry), len(n_ctry))\n",
        "\n",
        "    x_h_sum = np.sum(x_h, axis=0)\n",
        "    x_r_sum = np.sum(x_r, axis=0)\n",
        "    unmet_demand = (demand.values).copy()\n",
        "    unmet_demand = np.column_stack((x_h_sum - unmet_demand[:, 0], x_r_sum - unmet_demand[:, 1]))\n",
        "\n",
        "    return unmet_demand\n"
      ],
      "metadata": {
        "id": "_sMPtSS4iJId"
      },
      "execution_count": null,
      "outputs": []
    },
    {
      "cell_type": "markdown",
      "source": [
        "#### Gurobi Model"
      ],
      "metadata": {
        "id": "gu4jU2QMiZx-"
      }
    },
    {
      "cell_type": "code",
      "source": [
        "# Prompt the user to enter the year\n",
        "while True:\n",
        "    try:\n",
        "        selected_yr = int(input(\"Enter year (as yyyy, 2023): \"))\n",
        "        if 2018 <= selected_yr <= 2023:\n",
        "            exrate = exrate0.copy()\n",
        "            break  # Break the loop if the input is valid\n",
        "        else:\n",
        "            print(\"Invalid input. Please enter a year between 2018 and 2023.\")\n",
        "    except ValueError:\n",
        "        print(\"Invalid input. Please enter a valid year in number (yyyy).\")\n",
        "\n",
        "\n",
        "while True:\n",
        "    try:\n",
        "        tariff = float(input(\"Enter tariff (in percent, e.g. 10 for 10%): \"))\n",
        "        if 0 <= tariff <= 1000:\n",
        "            tariff = tariff/100\n",
        "            break  # Break the loop if the input is valid\n",
        "        else:\n",
        "            print(\"Invalid input. Please enter a valid number between 0 and 1000.\")\n",
        "    except ValueError:\n",
        "        print(\"Invalid input. Please enter a valid number.\")\n",
        "\n",
        "\n",
        "# Create a Gurobi model\n",
        "model = Model(\"MinimizeCost\")\n",
        "\n",
        "# Assign initial value of decision variables\n",
        "dec_plant = {(i, j): 1 for i in n_ctry for j in n_lines}\n",
        "dec_h     = {(i, j): 1 for i in n_ctry for j in n_ctry}\n",
        "dec_r     = {(i, j): 1 for i in n_ctry for j in n_ctry}\n",
        "\n",
        "# Define decision variables\n",
        "dec_plant = {(i, j): model.addVar(vtype=GRB.BINARY, name=f\"Dec_plant_{i}_{j}\")    for i in n_ctry for j in n_lines}\n",
        "dec_h     = {(i, j): model.addVar(vtype=GRB.CONTINUOUS, lb=0, name=f\"Dec_h_{i}_{j}\") for i in n_ctry for j in n_ctry}\n",
        "dec_r     = {(i, j): model.addVar(vtype=GRB.CONTINUOUS, lb=0, name=f\"Dec_r_{i}_{j}\") for i in n_ctry for j in n_ctry}\n",
        "\n",
        "# Excess Capacity constraints\n",
        "excess_cap = calc_excess_cap(dec_plant, dec_h, dec_r)\n",
        "for i in n_ctry:\n",
        "    for j in n_lines:\n",
        "        model.addConstr(excess_cap[i, j] >= 0, name=f\"Excess_Cap_Constraints_{i}_{j}\")\n",
        "\n",
        "\n",
        "# Unmet demand constraints\n",
        "unnmet_demand = calc_unmet_demand(dec_h, dec_r)\n",
        "for i in n_ctry:\n",
        "    for j in range(2):\n",
        "        model.addConstr(unnmet_demand[i,j] == 0, name=f\"Unmet_Demand_Constraints_{i}_{j}\")\n",
        "\n",
        "\n",
        "# Update the model\n",
        "model.update()\n",
        "\n",
        "# Set objective function - Total cost = Fixed cost + Variable costs of Highcal and Relax lines\n",
        "model.setObjective(calc_total_cost(dec_plant, dec_h, dec_r, base_yr, selected_yr, tariff), GRB.MINIMIZE)\n",
        "\n",
        "# Suppress optimization output\n",
        "model.Params.OutputFlag = 0\n",
        "\n",
        "# Optimize the model\n",
        "model.optimize()\n",
        "\n",
        "# Extract results to print as table\n",
        "op_plant = pd.DataFrame([[dec_plant[i, j].x for j in n_lines] for i in n_ctry], columns = ['Plant','H','R'], index=caps.index)\n",
        "op_h     = pd.DataFrame([[dec_h[i, j].x for j in n_ctry] for i in n_ctry], columns = tcosts.columns, index=tcosts.index)\n",
        "op_r     = pd.DataFrame([[dec_r[i, j].x for j in n_ctry] for i in n_ctry], columns = tcosts.columns, index=tcosts.index)\n",
        "\n",
        "\n",
        "print(\"\\nHighCal Flow\\n\")\n",
        "print(tabulate(op_h, headers='keys', tablefmt='pretty'))\n",
        "print(\"\\nRelax Flow\\n\")\n",
        "print(tabulate(op_r, headers='keys', tablefmt='pretty'))\n",
        "print(\"\\nStrategy\\n\")\n",
        "print(tabulate(op_plant, headers='keys', tablefmt='pretty'))\n",
        "print(f\"\\nMinimum Cost: $ {round(model.objVal,2)} in year {selected_yr} at Tariff {(tariff*100)}\")"
      ],
      "metadata": {
        "id": "eOPe1-2_ifEc",
        "colab": {
          "base_uri": "https://localhost:8080/",
          "height": 234
        },
        "outputId": "825871f1-33e6-4f42-e146-179888d8ba4c"
      },
      "execution_count": null,
      "outputs": [
        {
          "name": "stdout",
          "output_type": "stream",
          "text": [
            "Enter year (as yyyy, 2023): 2020\n"
          ]
        },
        {
          "output_type": "error",
          "ename": "NameError",
          "evalue": "name 'exrate0' is not defined",
          "traceback": [
            "\u001b[0;31m---------------------------------------------------------------------------\u001b[0m",
            "\u001b[0;31mNameError\u001b[0m                                 Traceback (most recent call last)",
            "\u001b[0;32m<ipython-input-20-262be91d4871>\u001b[0m in \u001b[0;36m<cell line: 2>\u001b[0;34m()\u001b[0m\n\u001b[1;32m      4\u001b[0m         \u001b[0mselected_yr\u001b[0m \u001b[0;34m=\u001b[0m \u001b[0mint\u001b[0m\u001b[0;34m(\u001b[0m\u001b[0minput\u001b[0m\u001b[0;34m(\u001b[0m\u001b[0;34m\"Enter year (as yyyy, 2023): \"\u001b[0m\u001b[0;34m)\u001b[0m\u001b[0;34m)\u001b[0m\u001b[0;34m\u001b[0m\u001b[0;34m\u001b[0m\u001b[0m\n\u001b[1;32m      5\u001b[0m         \u001b[0;32mif\u001b[0m \u001b[0;36m2018\u001b[0m \u001b[0;34m<=\u001b[0m \u001b[0mselected_yr\u001b[0m \u001b[0;34m<=\u001b[0m \u001b[0;36m2023\u001b[0m\u001b[0;34m:\u001b[0m\u001b[0;34m\u001b[0m\u001b[0;34m\u001b[0m\u001b[0m\n\u001b[0;32m----> 6\u001b[0;31m             \u001b[0mexrate\u001b[0m \u001b[0;34m=\u001b[0m \u001b[0mexrate0\u001b[0m\u001b[0;34m.\u001b[0m\u001b[0mcopy\u001b[0m\u001b[0;34m(\u001b[0m\u001b[0;34m)\u001b[0m\u001b[0;34m\u001b[0m\u001b[0;34m\u001b[0m\u001b[0m\n\u001b[0m\u001b[1;32m      7\u001b[0m             \u001b[0;32mbreak\u001b[0m  \u001b[0;31m# Break the loop if the input is valid\u001b[0m\u001b[0;34m\u001b[0m\u001b[0;34m\u001b[0m\u001b[0m\n\u001b[1;32m      8\u001b[0m         \u001b[0;32melse\u001b[0m\u001b[0;34m:\u001b[0m\u001b[0;34m\u001b[0m\u001b[0;34m\u001b[0m\u001b[0m\n",
            "\u001b[0;31mNameError\u001b[0m: name 'exrate0' is not defined"
          ]
        }
      ]
    },
    {
      "cell_type": "markdown",
      "source": [
        "### Base Model"
      ],
      "metadata": {
        "id": "qhzPDS57hOhy"
      }
    },
    {
      "cell_type": "code",
      "source": [
        "def base_model(ex_rates, base_yr = 2019, tariff=0):\n",
        "  # Create a Gurobi model\n",
        "  model = Model(\"MinimizeCost\")\n",
        "\n",
        "  # Assign initial value of decision variables\n",
        "  dec_plant = {(i, j): 1 for i in n_ctry for j in n_lines}\n",
        "  dec_h     = {(i, j): 1 for i in n_ctry for j in n_ctry}\n",
        "  dec_r     = {(i, j): 1 for i in n_ctry for j in n_ctry}\n",
        "\n",
        "  # Define decision variables\n",
        "  dec_plant = {(i, j): model.addVar(vtype=GRB.BINARY, name=f\"Dec_plant_{i}_{j}\")    for i in n_ctry for j in n_lines}\n",
        "  dec_h     = {(i, j): model.addVar(vtype=GRB.CONTINUOUS, lb=0, name=f\"Dec_h_{i}_{j}\") for i in n_ctry for j in n_ctry}\n",
        "  dec_r     = {(i, j): model.addVar(vtype=GRB.CONTINUOUS, lb=0, name=f\"Dec_r_{i}_{j}\") for i in n_ctry for j in n_ctry}\n",
        "\n",
        "  # Excess Capacity constraints\n",
        "  excess_cap = calc_excess_cap(dec_plant, dec_h, dec_r)\n",
        "  for i in n_ctry:\n",
        "      for j in n_lines:\n",
        "          model.addConstr(excess_cap[i, j] >= 0, name=f\"Excess_Cap_Constraints_{i}_{j}\")\n",
        "\n",
        "\n",
        "  # Unmet demand constraints\n",
        "  unnmet_demand = calc_unmet_demand(dec_h, dec_r)\n",
        "  for i in n_ctry:\n",
        "      for j in range(2):\n",
        "          model.addConstr(unnmet_demand[i,j] == 0, name=f\"Unmet_Demand_Constraints_{i}_{j}\")\n",
        "\n",
        "\n",
        "  # Update the model\n",
        "  model.update()\n",
        "\n",
        "  # Set objective function - Total cost = Fixed cost + Variable costs of Highcal and Relax lines\n",
        "  model.setObjective(calc_total_cost(dec_plant, dec_h, dec_r, ex_rates, base_yr, tariff), GRB.MINIMIZE)\n",
        "\n",
        "  # Suppress optimization output\n",
        "  model.Params.OutputFlag = 0\n",
        "\n",
        "  # Optimize the model\n",
        "  model.optimize()\n",
        "\n",
        "  # Extract results to print as table\n",
        "  op_plant = pd.DataFrame([[dec_plant[i, j].x for j in n_lines] for i in n_ctry], columns = ['Plant','H','R'], index=caps.index)\n",
        "  op_h     = pd.DataFrame([[dec_h[i, j].x for j in n_ctry] for i in n_ctry], columns = tcosts.columns, index=tcosts.index)\n",
        "  op_r     = pd.DataFrame([[dec_r[i, j].x for j in n_ctry] for i in n_ctry], columns = tcosts.columns, index=tcosts.index)\n",
        "\n",
        "  return model.ObjVal, op_plant"
      ],
      "metadata": {
        "id": "9pXvZ3cTfmB7"
      },
      "execution_count": null,
      "outputs": []
    },
    {
      "cell_type": "markdown",
      "source": [
        "### Strategy from Sampling\n",
        "\n",
        "1. Sample 100 draws from the exchange rate distribution and for each draw determine the optimal network configuration (which plants/lines should be open)."
      ],
      "metadata": {
        "id": "JLxuVWexfHPx"
      }
    },
    {
      "cell_type": "code",
      "source": [
        "# Set-up for the simulation table\n",
        "columns = [\"Plant\", \"H\", \"R\"]\n",
        "plants = list(caps.index)\n",
        "features = [\"Min_Cost\"]\n",
        "\n",
        "# Setting up the feature names for each speficic plant and the corresponding decision variable\n",
        "for plant in plants:\n",
        "  for category in columns:\n",
        "    features.append(f\"{plant}_{category}\")\n",
        "\n",
        "# Number of samples to be drawn\n",
        "n_samples = 100\n",
        "\n",
        "# List of lists, where each list is the output of a simulation\n",
        "simulations = []\n",
        "\n",
        "# Simulate by the number of samples to be drawn\n",
        "for sim in range(n_samples):\n",
        "  results = [] # initialize empty list to hold the results of single iteration of the base model\n",
        "  sample = mvn_distribution.rvs(size=1) # sample a set of exchange rates\n",
        "  sample_matching = np.append(sample, 1) # append a 1 to match function definition within calc_total_cost fucntion\n",
        "  model_output = base_model(sample_matching) # pass the sampled exchange rate as a parameter to the model\n",
        "\n",
        "  # Flatten matrix op_plant which contains the decision variables on a plant-level\n",
        "  results = model_output[1].values.flatten().tolist()\n",
        "  # Insert the minimum cost calculated by the network\n",
        "  results.insert(0, round(model_output[0],2))\n",
        "  # Append the results to simulation\n",
        "  simulations.append(results)\n",
        "\n",
        "# Convert the lists of lists into a matrix object in numpy\n",
        "data_array = np.array(simulations)\n",
        "# Fill in a new DataFrame where each row represents a simulation and how the plants behaved\n",
        "df_simulation = pd.DataFrame(data_array, columns=features)\n",
        "\n",
        "frequencies = df_simulation.mean()\n",
        "\n",
        "frequencies\n",
        "\n"
      ],
      "metadata": {
        "id": "LCbD0nijhbFT",
        "colab": {
          "base_uri": "https://localhost:8080/"
        },
        "outputId": "02e5bbb6-4d0e-46fe-bb72-d1747fbecc90"
      },
      "execution_count": null,
      "outputs": [
        {
          "output_type": "stream",
          "name": "stdout",
          "text": [
            "Restricted license - for non-production use only - expires 2025-11-24\n"
          ]
        },
        {
          "output_type": "execute_result",
          "data": {
            "text/plain": [
              "Min_Cost         1184.3502\n",
              "Brazil_Plant        1.0000\n",
              "Brazil_H            1.0000\n",
              "Brazil_R            1.0000\n",
              "Germany_Plant       1.0000\n",
              "Germany_H           0.0600\n",
              "Germany_R           0.9900\n",
              "India_Plant         1.0000\n",
              "India_H             1.0000\n",
              "India_R             1.0000\n",
              "Japan_Plant         0.5100\n",
              "Japan_H             0.4000\n",
              "Japan_R             0.4000\n",
              "Mexico_Plant        0.8000\n",
              "Mexico_H            0.8000\n",
              "Mexico_R            0.8000\n",
              "U.S._Plant          0.7400\n",
              "U.S._H              0.7300\n",
              "U.S._R              0.1800\n",
              "dtype: float64"
            ]
          },
          "metadata": {},
          "execution_count": 22
        }
      ]
    },
    {
      "cell_type": "markdown",
      "source": [
        "#### Candidate Proposal\n",
        "Based on the results from #1, propose 3 candidate network strategies we can expect to work well. Use the following logic: if a plant/line is open in most of the scenarios, it is reasonable to keep it open in your proposed strategy, if it is mostly closed, then it makes sense to keep it closed. Consider whether some plants open/close in pairs due to the correlation between exchange rates: for example, if Germany is open, then Japan may be closed. Can you identify such pairs?\n",
        "\n",
        "1. Frequency Strategy: Keep plants that have a higher frequency of being open. In essence, only plants that are open 60% of the time remain open in the optimal network."
      ],
      "metadata": {
        "id": "ep0oIS1iTp5s"
      }
    },
    {
      "cell_type": "code",
      "source": [
        "frequencies"
      ],
      "metadata": {
        "id": "00CKr-zNyXIu",
        "colab": {
          "base_uri": "https://localhost:8080/"
        },
        "outputId": "fb9d4d1b-a6c5-49a4-9916-01a15c3e76f8"
      },
      "execution_count": null,
      "outputs": [
        {
          "output_type": "execute_result",
          "data": {
            "text/plain": [
              "Min_Cost         1184.3502\n",
              "Brazil_Plant        1.0000\n",
              "Brazil_H            1.0000\n",
              "Brazil_R            1.0000\n",
              "Germany_Plant       1.0000\n",
              "Germany_H           0.0600\n",
              "Germany_R           0.9900\n",
              "India_Plant         1.0000\n",
              "India_H             1.0000\n",
              "India_R             1.0000\n",
              "Japan_Plant         0.5100\n",
              "Japan_H             0.4000\n",
              "Japan_R             0.4000\n",
              "Mexico_Plant        0.8000\n",
              "Mexico_H            0.8000\n",
              "Mexico_R            0.8000\n",
              "U.S._Plant          0.7400\n",
              "U.S._H              0.7300\n",
              "U.S._R              0.1800\n",
              "dtype: float64"
            ]
          },
          "metadata": {},
          "execution_count": 23
        }
      ]
    },
    {
      "cell_type": "markdown",
      "source": [
        "With a minimum threshold of 60%, here are the following frequency decisions:\n",
        "\n",
        "\n",
        "*   **Open**: Brazil (both), Germany (only Relax), India (both), Mexico (both), U.S (only Highcal)\n",
        "*   **Close**: Japan\n",
        "\n"
      ],
      "metadata": {
        "id": "je_dWw96ycxd"
      }
    },
    {
      "cell_type": "code",
      "source": [
        "def frequency_model(ex_rates, base_yr = 2019, tariff=0):\n",
        "  # Create a Gurobi model\n",
        "  model = Model(\"MinimizeCost\")\n",
        "\n",
        "  # Assign initial value of decision variables\n",
        "  dec_plant = np.array([[1, 1, 1], # Brazil\n",
        "                      [1, 0, 1], # Germany\n",
        "                      [1, 1, 1], # India\n",
        "                      [0, 0, 0], # Japan\n",
        "                      [1, 1, 1], # Mexico\n",
        "                      [1, 1, 0]], dtype='int64') # U.S.\n",
        "\n",
        "  dec_h     = {(i, j): 0 for i in n_ctry for j in n_ctry}\n",
        "  dec_r     = {(i, j): 0 for i in n_ctry for j in n_ctry}\n",
        "\n",
        "\n",
        "  # Define decision variables\n",
        "  dec_h     = {(i, j): model.addVar(vtype=GRB.CONTINUOUS, lb=0, name=f\"Dec_h_{i}_{j}\") for i in n_ctry for j in n_ctry}\n",
        "  dec_r     = {(i, j): model.addVar(vtype=GRB.CONTINUOUS, lb=0, name=f\"Dec_r_{i}_{j}\") for i in n_ctry for j in n_ctry}\n",
        "\n",
        "  # Excess Capacity constraints\n",
        "  excess_cap = calc_excess_cap(dec_plant, dec_h, dec_r)\n",
        "  for i in n_ctry:\n",
        "      for j in n_lines:\n",
        "          model.addConstr(excess_cap[i, j] >= 0, name=f\"Excess_Cap_Constraints_{i}_{j}\")\n",
        "\n",
        "\n",
        "  # Unmet demand constraints\n",
        "  unnmet_demand = calc_unmet_demand(dec_h, dec_r)\n",
        "  for i in n_ctry:\n",
        "      for j in range(2):\n",
        "          model.addConstr(unnmet_demand[i,j] == 0, name=f\"Unmet_Demand_Constraints_{i}_{j}\")\n",
        "\n",
        "  # Update the model\n",
        "  model.update()\n",
        "\n",
        "  # Set objective function - Total cost = Fixed cost + Variable costs of Highcal and Relax lines\n",
        "  model.setObjective(calc_total_cost(dec_plant, dec_h, dec_r, ex_rates, base_yr, tariff), GRB.MINIMIZE)\n",
        "\n",
        "  # Suppress optimization output\n",
        "  model.Params.OutputFlag = 0\n",
        "\n",
        "  # Optimize the model\n",
        "  model.optimize()\n",
        "\n",
        "  if model.Status == GRB.OPTIMAL:\n",
        "    # Proceed to access .x attributes\n",
        "    pass\n",
        "  else:\n",
        "      print(\"Model not solved optimally. Status:\", model.Status)\n",
        "\n",
        "  # Extract results to print as table\n",
        "  op_plant = pd.DataFrame([[dec_plant[i, j] for j in n_lines] for i in n_ctry], columns = ['Plant','H','R'], index=caps.index) # Removed .x as dec_plant no longer contains decision variables\n",
        "  op_h     = pd.DataFrame([[dec_h[i, j].x for j in n_ctry] for i in n_ctry], columns = tcosts.columns, index=tcosts.index)\n",
        "  op_r     = pd.DataFrame([[dec_r[i, j].x for j in n_ctry] for i in n_ctry], columns = tcosts.columns, index=tcosts.index)\n",
        "\n",
        "  return model.ObjVal, op_plant\n"
      ],
      "metadata": {
        "id": "FoWiakjXTNaG"
      },
      "execution_count": null,
      "outputs": []
    },
    {
      "cell_type": "markdown",
      "source": [
        "2. Correlation between Plants: The following approach tries to identify whether a plant opens or closes based on the status of another plant."
      ],
      "metadata": {
        "id": "REda8AzoDG2a"
      }
    },
    {
      "cell_type": "code",
      "source": [
        "df_simulation.iloc[:, 1:19].corr()\n",
        "\n",
        "df_simulation.mean()"
      ],
      "metadata": {
        "id": "TlPFi0UzRUkM",
        "colab": {
          "base_uri": "https://localhost:8080/"
        },
        "outputId": "d04da7c8-8be7-4e33-a83e-c46a3ed1ea07"
      },
      "execution_count": null,
      "outputs": [
        {
          "output_type": "execute_result",
          "data": {
            "text/plain": [
              "Min_Cost         1184.3502\n",
              "Brazil_Plant        1.0000\n",
              "Brazil_H            1.0000\n",
              "Brazil_R            1.0000\n",
              "Germany_Plant       1.0000\n",
              "Germany_H           0.0600\n",
              "Germany_R           0.9900\n",
              "India_Plant         1.0000\n",
              "India_H             1.0000\n",
              "India_R             1.0000\n",
              "Japan_Plant         0.5100\n",
              "Japan_H             0.4000\n",
              "Japan_R             0.4000\n",
              "Mexico_Plant        0.8000\n",
              "Mexico_H            0.8000\n",
              "Mexico_R            0.8000\n",
              "U.S._Plant          0.7400\n",
              "U.S._H              0.7300\n",
              "U.S._R              0.1800\n",
              "dtype: float64"
            ]
          },
          "metadata": {},
          "execution_count": 25
        }
      ]
    },
    {
      "cell_type": "markdown",
      "source": [
        "The previous output demonstrates the correlation between plants being open for the 100 simulation of the base model.\n",
        "\n",
        "\n",
        "*  **Japan and Mexico**: The negative moderate correlation between Japan_Plant and Mexico_Plant demonstrates that whenever one of these plants is open, the other high has a higher chance of being closed.\n",
        "*   **Japan and U.S.**: The negative weak correlation between Japan_Plant and U.S._Plant demonstrates that whenever one of these plants is open, the other high has a higher chance of being closed.\n",
        "\n"
      ],
      "metadata": {
        "id": "bTWWJ7PvTGRQ"
      }
    },
    {
      "cell_type": "code",
      "source": [
        "def plantcorr_model(ex_rates, base_yr = 2019, tariff=0):\n",
        "  # Create a Gurobi model\n",
        "  model = Model(\"MinimizeCost\")\n",
        "\n",
        "  # Assign initial value of decision variables\n",
        "  dec_plant = np.array([[1, 1, 1], # Brazil\n",
        "                      [1, 0, 1], # Germany\n",
        "                      [1, 1, 1], # India\n",
        "                      [0, 0, 0], # Japan\n",
        "                      [1, 1, 1], # Mexico\n",
        "                      [1, 1, 0]], dtype='int64') # U.S.\n",
        "\n",
        "  dec_h     = {(i, j): 0 for i in n_ctry for j in n_ctry}\n",
        "  dec_r     = {(i, j): 0 for i in n_ctry for j in n_ctry}\n",
        "\n",
        "\n",
        "  # Define decision variables\n",
        "  dec_h     = {(i, j): model.addVar(vtype=GRB.CONTINUOUS, lb=0, name=f\"Dec_h_{i}_{j}\") for i in n_ctry for j in n_ctry}\n",
        "  dec_r     = {(i, j): model.addVar(vtype=GRB.CONTINUOUS, lb=0, name=f\"Dec_r_{i}_{j}\") for i in n_ctry for j in n_ctry}\n",
        "\n",
        "  # Excess Capacity constraints\n",
        "  excess_cap = calc_excess_cap(dec_plant, dec_h, dec_r)\n",
        "  for i in n_ctry:\n",
        "      for j in n_lines:\n",
        "          model.addConstr(excess_cap[i, j] >= 0, name=f\"Excess_Cap_Constraints_{i}_{j}\")\n",
        "\n",
        "\n",
        "  # Unmet demand constraints\n",
        "  unnmet_demand = calc_unmet_demand(dec_h, dec_r)\n",
        "  for i in n_ctry:\n",
        "      for j in range(2):\n",
        "          model.addConstr(unnmet_demand[i,j] == 0, name=f\"Unmet_Demand_Constraints_{i}_{j}\")\n",
        "\n",
        "  # Update the model\n",
        "  model.update()\n",
        "\n",
        "  # Set objective function - Total cost = Fixed cost + Variable costs of Highcal and Relax lines\n",
        "  model.setObjective(calc_total_cost(dec_plant, dec_h, dec_r, ex_rates, base_yr, tariff), GRB.MINIMIZE)\n",
        "\n",
        "  # Suppress optimization output\n",
        "  model.Params.OutputFlag = 0\n",
        "\n",
        "  # Optimize the model\n",
        "  model.optimize()\n",
        "\n",
        "  if model.Status == GRB.OPTIMAL:\n",
        "    # Proceed to access .x attributes\n",
        "    pass\n",
        "  else:\n",
        "      print(\"Model not solved optimally. Status:\", model.Status)\n",
        "\n",
        "  # Extract results to print as table\n",
        "  op_plant = pd.DataFrame([[dec_plant[i, j] for j in n_lines] for i in n_ctry], columns = ['Plant','H','R'], index=caps.index) # Removed .x as dec_plant no longer contains decision variables\n",
        "  op_h     = pd.DataFrame([[dec_h[i, j].x for j in n_ctry] for i in n_ctry], columns = tcosts.columns, index=tcosts.index)\n",
        "  op_r     = pd.DataFrame([[dec_r[i, j].x for j in n_ctry] for i in n_ctry], columns = tcosts.columns, index=tcosts.index)\n",
        "\n",
        "  return model.ObjVal, op_plant"
      ],
      "metadata": {
        "id": "aDWnrNHYVOjk"
      },
      "execution_count": null,
      "outputs": []
    },
    {
      "cell_type": "markdown",
      "source": [
        "\n",
        "\n",
        "3. Correlation between Exhange Rates: The following approach tries to identify whether a plant opens or closes in a region based on the correlation of exchange rates."
      ],
      "metadata": {
        "id": "CbPaCBrjU5Lv"
      }
    },
    {
      "cell_type": "code",
      "source": [
        "exrates.T.corr()"
      ],
      "metadata": {
        "id": "LGpc47GkU6o4",
        "colab": {
          "base_uri": "https://localhost:8080/",
          "height": 269
        },
        "outputId": "52ee69f6-648c-436d-e251-4c9a896c8745"
      },
      "execution_count": null,
      "outputs": [
        {
          "output_type": "execute_result",
          "data": {
            "text/plain": [
              "Currency       BRL       EUR       INR       JPY       MXN  USD\n",
              "Currency                                                       \n",
              "BRL       1.000000  0.020341  0.647313  0.384891  0.717071  NaN\n",
              "EUR       0.020341  1.000000  0.636011  0.885894 -0.274118  NaN\n",
              "INR       0.647313  0.636011  1.000000  0.890058  0.106674  NaN\n",
              "JPY       0.384891  0.885894  0.890058  1.000000  0.027394  NaN\n",
              "MXN       0.717071 -0.274118  0.106674  0.027394  1.000000  NaN\n",
              "USD            NaN       NaN       NaN       NaN       NaN  NaN"
            ],
            "text/html": [
              "\n",
              "  <div id=\"df-946c7619-761c-48e8-b5d6-ba909a2b5d74\" class=\"colab-df-container\">\n",
              "    <div>\n",
              "<style scoped>\n",
              "    .dataframe tbody tr th:only-of-type {\n",
              "        vertical-align: middle;\n",
              "    }\n",
              "\n",
              "    .dataframe tbody tr th {\n",
              "        vertical-align: top;\n",
              "    }\n",
              "\n",
              "    .dataframe thead th {\n",
              "        text-align: right;\n",
              "    }\n",
              "</style>\n",
              "<table border=\"1\" class=\"dataframe\">\n",
              "  <thead>\n",
              "    <tr style=\"text-align: right;\">\n",
              "      <th>Currency</th>\n",
              "      <th>BRL</th>\n",
              "      <th>EUR</th>\n",
              "      <th>INR</th>\n",
              "      <th>JPY</th>\n",
              "      <th>MXN</th>\n",
              "      <th>USD</th>\n",
              "    </tr>\n",
              "    <tr>\n",
              "      <th>Currency</th>\n",
              "      <th></th>\n",
              "      <th></th>\n",
              "      <th></th>\n",
              "      <th></th>\n",
              "      <th></th>\n",
              "      <th></th>\n",
              "    </tr>\n",
              "  </thead>\n",
              "  <tbody>\n",
              "    <tr>\n",
              "      <th>BRL</th>\n",
              "      <td>1.000000</td>\n",
              "      <td>0.020341</td>\n",
              "      <td>0.647313</td>\n",
              "      <td>0.384891</td>\n",
              "      <td>0.717071</td>\n",
              "      <td>NaN</td>\n",
              "    </tr>\n",
              "    <tr>\n",
              "      <th>EUR</th>\n",
              "      <td>0.020341</td>\n",
              "      <td>1.000000</td>\n",
              "      <td>0.636011</td>\n",
              "      <td>0.885894</td>\n",
              "      <td>-0.274118</td>\n",
              "      <td>NaN</td>\n",
              "    </tr>\n",
              "    <tr>\n",
              "      <th>INR</th>\n",
              "      <td>0.647313</td>\n",
              "      <td>0.636011</td>\n",
              "      <td>1.000000</td>\n",
              "      <td>0.890058</td>\n",
              "      <td>0.106674</td>\n",
              "      <td>NaN</td>\n",
              "    </tr>\n",
              "    <tr>\n",
              "      <th>JPY</th>\n",
              "      <td>0.384891</td>\n",
              "      <td>0.885894</td>\n",
              "      <td>0.890058</td>\n",
              "      <td>1.000000</td>\n",
              "      <td>0.027394</td>\n",
              "      <td>NaN</td>\n",
              "    </tr>\n",
              "    <tr>\n",
              "      <th>MXN</th>\n",
              "      <td>0.717071</td>\n",
              "      <td>-0.274118</td>\n",
              "      <td>0.106674</td>\n",
              "      <td>0.027394</td>\n",
              "      <td>1.000000</td>\n",
              "      <td>NaN</td>\n",
              "    </tr>\n",
              "    <tr>\n",
              "      <th>USD</th>\n",
              "      <td>NaN</td>\n",
              "      <td>NaN</td>\n",
              "      <td>NaN</td>\n",
              "      <td>NaN</td>\n",
              "      <td>NaN</td>\n",
              "      <td>NaN</td>\n",
              "    </tr>\n",
              "  </tbody>\n",
              "</table>\n",
              "</div>\n",
              "    <div class=\"colab-df-buttons\">\n",
              "\n",
              "  <div class=\"colab-df-container\">\n",
              "    <button class=\"colab-df-convert\" onclick=\"convertToInteractive('df-946c7619-761c-48e8-b5d6-ba909a2b5d74')\"\n",
              "            title=\"Convert this dataframe to an interactive table.\"\n",
              "            style=\"display:none;\">\n",
              "\n",
              "  <svg xmlns=\"http://www.w3.org/2000/svg\" height=\"24px\" viewBox=\"0 -960 960 960\">\n",
              "    <path d=\"M120-120v-720h720v720H120Zm60-500h600v-160H180v160Zm220 220h160v-160H400v160Zm0 220h160v-160H400v160ZM180-400h160v-160H180v160Zm440 0h160v-160H620v160ZM180-180h160v-160H180v160Zm440 0h160v-160H620v160Z\"/>\n",
              "  </svg>\n",
              "    </button>\n",
              "\n",
              "  <style>\n",
              "    .colab-df-container {\n",
              "      display:flex;\n",
              "      gap: 12px;\n",
              "    }\n",
              "\n",
              "    .colab-df-convert {\n",
              "      background-color: #E8F0FE;\n",
              "      border: none;\n",
              "      border-radius: 50%;\n",
              "      cursor: pointer;\n",
              "      display: none;\n",
              "      fill: #1967D2;\n",
              "      height: 32px;\n",
              "      padding: 0 0 0 0;\n",
              "      width: 32px;\n",
              "    }\n",
              "\n",
              "    .colab-df-convert:hover {\n",
              "      background-color: #E2EBFA;\n",
              "      box-shadow: 0px 1px 2px rgba(60, 64, 67, 0.3), 0px 1px 3px 1px rgba(60, 64, 67, 0.15);\n",
              "      fill: #174EA6;\n",
              "    }\n",
              "\n",
              "    .colab-df-buttons div {\n",
              "      margin-bottom: 4px;\n",
              "    }\n",
              "\n",
              "    [theme=dark] .colab-df-convert {\n",
              "      background-color: #3B4455;\n",
              "      fill: #D2E3FC;\n",
              "    }\n",
              "\n",
              "    [theme=dark] .colab-df-convert:hover {\n",
              "      background-color: #434B5C;\n",
              "      box-shadow: 0px 1px 3px 1px rgba(0, 0, 0, 0.15);\n",
              "      filter: drop-shadow(0px 1px 2px rgba(0, 0, 0, 0.3));\n",
              "      fill: #FFFFFF;\n",
              "    }\n",
              "  </style>\n",
              "\n",
              "    <script>\n",
              "      const buttonEl =\n",
              "        document.querySelector('#df-946c7619-761c-48e8-b5d6-ba909a2b5d74 button.colab-df-convert');\n",
              "      buttonEl.style.display =\n",
              "        google.colab.kernel.accessAllowed ? 'block' : 'none';\n",
              "\n",
              "      async function convertToInteractive(key) {\n",
              "        const element = document.querySelector('#df-946c7619-761c-48e8-b5d6-ba909a2b5d74');\n",
              "        const dataTable =\n",
              "          await google.colab.kernel.invokeFunction('convertToInteractive',\n",
              "                                                    [key], {});\n",
              "        if (!dataTable) return;\n",
              "\n",
              "        const docLinkHtml = 'Like what you see? Visit the ' +\n",
              "          '<a target=\"_blank\" href=https://colab.research.google.com/notebooks/data_table.ipynb>data table notebook</a>'\n",
              "          + ' to learn more about interactive tables.';\n",
              "        element.innerHTML = '';\n",
              "        dataTable['output_type'] = 'display_data';\n",
              "        await google.colab.output.renderOutput(dataTable, element);\n",
              "        const docLink = document.createElement('div');\n",
              "        docLink.innerHTML = docLinkHtml;\n",
              "        element.appendChild(docLink);\n",
              "      }\n",
              "    </script>\n",
              "  </div>\n",
              "\n",
              "\n",
              "<div id=\"df-604ce190-d375-457c-a07d-e2acad4e9ff3\">\n",
              "  <button class=\"colab-df-quickchart\" onclick=\"quickchart('df-604ce190-d375-457c-a07d-e2acad4e9ff3')\"\n",
              "            title=\"Suggest charts\"\n",
              "            style=\"display:none;\">\n",
              "\n",
              "<svg xmlns=\"http://www.w3.org/2000/svg\" height=\"24px\"viewBox=\"0 0 24 24\"\n",
              "     width=\"24px\">\n",
              "    <g>\n",
              "        <path d=\"M19 3H5c-1.1 0-2 .9-2 2v14c0 1.1.9 2 2 2h14c1.1 0 2-.9 2-2V5c0-1.1-.9-2-2-2zM9 17H7v-7h2v7zm4 0h-2V7h2v10zm4 0h-2v-4h2v4z\"/>\n",
              "    </g>\n",
              "</svg>\n",
              "  </button>\n",
              "\n",
              "<style>\n",
              "  .colab-df-quickchart {\n",
              "      --bg-color: #E8F0FE;\n",
              "      --fill-color: #1967D2;\n",
              "      --hover-bg-color: #E2EBFA;\n",
              "      --hover-fill-color: #174EA6;\n",
              "      --disabled-fill-color: #AAA;\n",
              "      --disabled-bg-color: #DDD;\n",
              "  }\n",
              "\n",
              "  [theme=dark] .colab-df-quickchart {\n",
              "      --bg-color: #3B4455;\n",
              "      --fill-color: #D2E3FC;\n",
              "      --hover-bg-color: #434B5C;\n",
              "      --hover-fill-color: #FFFFFF;\n",
              "      --disabled-bg-color: #3B4455;\n",
              "      --disabled-fill-color: #666;\n",
              "  }\n",
              "\n",
              "  .colab-df-quickchart {\n",
              "    background-color: var(--bg-color);\n",
              "    border: none;\n",
              "    border-radius: 50%;\n",
              "    cursor: pointer;\n",
              "    display: none;\n",
              "    fill: var(--fill-color);\n",
              "    height: 32px;\n",
              "    padding: 0;\n",
              "    width: 32px;\n",
              "  }\n",
              "\n",
              "  .colab-df-quickchart:hover {\n",
              "    background-color: var(--hover-bg-color);\n",
              "    box-shadow: 0 1px 2px rgba(60, 64, 67, 0.3), 0 1px 3px 1px rgba(60, 64, 67, 0.15);\n",
              "    fill: var(--button-hover-fill-color);\n",
              "  }\n",
              "\n",
              "  .colab-df-quickchart-complete:disabled,\n",
              "  .colab-df-quickchart-complete:disabled:hover {\n",
              "    background-color: var(--disabled-bg-color);\n",
              "    fill: var(--disabled-fill-color);\n",
              "    box-shadow: none;\n",
              "  }\n",
              "\n",
              "  .colab-df-spinner {\n",
              "    border: 2px solid var(--fill-color);\n",
              "    border-color: transparent;\n",
              "    border-bottom-color: var(--fill-color);\n",
              "    animation:\n",
              "      spin 1s steps(1) infinite;\n",
              "  }\n",
              "\n",
              "  @keyframes spin {\n",
              "    0% {\n",
              "      border-color: transparent;\n",
              "      border-bottom-color: var(--fill-color);\n",
              "      border-left-color: var(--fill-color);\n",
              "    }\n",
              "    20% {\n",
              "      border-color: transparent;\n",
              "      border-left-color: var(--fill-color);\n",
              "      border-top-color: var(--fill-color);\n",
              "    }\n",
              "    30% {\n",
              "      border-color: transparent;\n",
              "      border-left-color: var(--fill-color);\n",
              "      border-top-color: var(--fill-color);\n",
              "      border-right-color: var(--fill-color);\n",
              "    }\n",
              "    40% {\n",
              "      border-color: transparent;\n",
              "      border-right-color: var(--fill-color);\n",
              "      border-top-color: var(--fill-color);\n",
              "    }\n",
              "    60% {\n",
              "      border-color: transparent;\n",
              "      border-right-color: var(--fill-color);\n",
              "    }\n",
              "    80% {\n",
              "      border-color: transparent;\n",
              "      border-right-color: var(--fill-color);\n",
              "      border-bottom-color: var(--fill-color);\n",
              "    }\n",
              "    90% {\n",
              "      border-color: transparent;\n",
              "      border-bottom-color: var(--fill-color);\n",
              "    }\n",
              "  }\n",
              "</style>\n",
              "\n",
              "  <script>\n",
              "    async function quickchart(key) {\n",
              "      const quickchartButtonEl =\n",
              "        document.querySelector('#' + key + ' button');\n",
              "      quickchartButtonEl.disabled = true;  // To prevent multiple clicks.\n",
              "      quickchartButtonEl.classList.add('colab-df-spinner');\n",
              "      try {\n",
              "        const charts = await google.colab.kernel.invokeFunction(\n",
              "            'suggestCharts', [key], {});\n",
              "      } catch (error) {\n",
              "        console.error('Error during call to suggestCharts:', error);\n",
              "      }\n",
              "      quickchartButtonEl.classList.remove('colab-df-spinner');\n",
              "      quickchartButtonEl.classList.add('colab-df-quickchart-complete');\n",
              "    }\n",
              "    (() => {\n",
              "      let quickchartButtonEl =\n",
              "        document.querySelector('#df-604ce190-d375-457c-a07d-e2acad4e9ff3 button');\n",
              "      quickchartButtonEl.style.display =\n",
              "        google.colab.kernel.accessAllowed ? 'block' : 'none';\n",
              "    })();\n",
              "  </script>\n",
              "</div>\n",
              "\n",
              "    </div>\n",
              "  </div>\n"
            ],
            "application/vnd.google.colaboratory.intrinsic+json": {
              "type": "dataframe",
              "summary": "{\n  \"name\": \"exrates\",\n  \"rows\": 6,\n  \"fields\": [\n    {\n      \"column\": \"BRL\",\n      \"properties\": {\n        \"dtype\": \"number\",\n        \"std\": 0.3700018247107754,\n        \"min\": 0.020341050496278348,\n        \"max\": 1.0,\n        \"samples\": [\n          0.020341050496278348,\n          0.7170714551090317,\n          0.6473134251511271\n        ],\n        \"num_unique_values\": 5,\n        \"semantic_type\": \"\",\n        \"description\": \"\"\n      }\n    },\n    {\n      \"column\": \"EUR\",\n      \"properties\": {\n        \"dtype\": \"number\",\n        \"std\": 0.5558757132217771,\n        \"min\": -0.2741180865640724,\n        \"max\": 1.0,\n        \"samples\": [\n          1.0,\n          -0.2741180865640724,\n          0.6360107008280553\n        ],\n        \"num_unique_values\": 5,\n        \"semantic_type\": \"\",\n        \"description\": \"\"\n      }\n    },\n    {\n      \"column\": \"INR\",\n      \"properties\": {\n        \"dtype\": \"number\",\n        \"std\": 0.3447290832347221,\n        \"min\": 0.10667444531488346,\n        \"max\": 1.0,\n        \"samples\": [\n          0.6360107008280553,\n          0.10667444531488346,\n          1.0\n        ],\n        \"num_unique_values\": 5,\n        \"semantic_type\": \"\",\n        \"description\": \"\"\n      }\n    },\n    {\n      \"column\": \"JPY\",\n      \"properties\": {\n        \"dtype\": \"number\",\n        \"std\": 0.41621267789861527,\n        \"min\": 0.02739359712360156,\n        \"max\": 1.0,\n        \"samples\": [\n          0.8858935146634439,\n          0.02739359712360156,\n          0.890057621642269\n        ],\n        \"num_unique_values\": 5,\n        \"semantic_type\": \"\",\n        \"description\": \"\"\n      }\n    },\n    {\n      \"column\": \"MXN\",\n      \"properties\": {\n        \"dtype\": \"number\",\n        \"std\": 0.5253719485803123,\n        \"min\": -0.2741180865640724,\n        \"max\": 1.0,\n        \"samples\": [\n          -0.2741180865640724,\n          1.0,\n          0.10667444531488346\n        ],\n        \"num_unique_values\": 5,\n        \"semantic_type\": \"\",\n        \"description\": \"\"\n      }\n    },\n    {\n      \"column\": \"USD\",\n      \"properties\": {\n        \"dtype\": \"number\",\n        \"std\": NaN,\n        \"min\": NaN,\n        \"max\": NaN,\n        \"samples\": [],\n        \"num_unique_values\": 0,\n        \"semantic_type\": \"\",\n        \"description\": \"\"\n      }\n    }\n  ]\n}"
            }
          },
          "metadata": {},
          "execution_count": 27
        }
      ]
    },
    {
      "cell_type": "markdown",
      "source": [
        "### Performance Evaluation\n",
        "\n",
        "Evaluate performance of the three proposed strategies by drawing 100 exchange rate samples and computing expected strategy cost/and cost standard deviation over these samples. Note that the network should remain fixed in this analysis (i.e., plant/lines decision variables must be excluded from the optimization -- you need to modify the Biopharma notebook accordingly). Which strategy do you ultimately recommend?"
      ],
      "metadata": {
        "id": "8zQeKrleoxYk"
      }
    },
    {
      "cell_type": "code",
      "source": [
        "def sim(n_samples, strategy):\n",
        "  # List of lists, where each list is the output of a simulation\n",
        "  simulations = []\n",
        "\n",
        "  # Simulate by the number of samples to be drawn\n",
        "  for sim in range(n_samples):\n",
        "    results = [] # initialize empty list to hold the results of single iteration of the base model\n",
        "    sample = mvn_distribution.rvs(size=1) # sample a set of exchange rates\n",
        "    sample_matching = np.append(sample, 1) # append a 1 to match function definition within calc_total_cost fucntion\n",
        "    model_output = strategy(sample_matching) # pass the sampled exchange rate as a parameter to the model\n",
        "\n",
        "    # Flatten matrix op_plant which contains the decision variables on a plant-level\n",
        "    results = model_output[1].values.flatten().tolist()\n",
        "    # Insert the minimum cost calculated by the network\n",
        "    results.insert(0, round(model_output[0],2))\n",
        "    # Append the results to simulation\n",
        "    simulations.append(results)\n",
        "\n",
        "  # Convert the lists of lists into a matrix object in numpy\n",
        "  data_array = np.array(simulations)\n",
        "  # Fill in a new DataFrame where each row represents a simulation and how the plants behaved\n",
        "  df_simulation = pd.DataFrame(data_array, columns=features)\n",
        "\n",
        "  return df_simulation.round(3)\n"
      ],
      "metadata": {
        "id": "2tAm3zRVowuR"
      },
      "execution_count": null,
      "outputs": []
    },
    {
      "cell_type": "code",
      "source": [
        "print(\"======================= Frequency Approach =======================\")\n",
        "freq_strategy = sim(100, frequency_model)\n",
        "print(f'Expected Strategy Cost = {round(freq_strategy[\"Min_Cost\"].mean(), 3)}\\nCost Standard Deviation = {round(freq_strategy[\"Min_Cost\"].std(), 3)} ')\n"
      ],
      "metadata": {
        "id": "28HWrT__NMgk",
        "colab": {
          "base_uri": "https://localhost:8080/"
        },
        "outputId": "3e97cdad-8c3b-43f4-9302-d083e77ae0a6"
      },
      "execution_count": null,
      "outputs": [
        {
          "output_type": "stream",
          "name": "stdout",
          "text": [
            "======================= Frequency Approach =======================\n",
            "Expected Strategy Cost = 1198.111\n",
            "Cost Standard Deviation = 41.103 \n"
          ]
        }
      ]
    },
    {
      "cell_type": "code",
      "source": [
        "# Strategy 2: Switching out Japan with Mexico"
      ],
      "metadata": {
        "id": "lsnGStaGPV4T"
      },
      "execution_count": null,
      "outputs": []
    },
    {
      "cell_type": "code",
      "source": [
        "frequencies"
      ],
      "metadata": {
        "id": "hVz2ZG6-Qz1x",
        "colab": {
          "base_uri": "https://localhost:8080/"
        },
        "outputId": "9c71906a-ebc3-45d1-c3cb-179c780a5b08"
      },
      "execution_count": null,
      "outputs": [
        {
          "output_type": "execute_result",
          "data": {
            "text/plain": [
              "Min_Cost         1184.3502\n",
              "Brazil_Plant        1.0000\n",
              "Brazil_H            1.0000\n",
              "Brazil_R            1.0000\n",
              "Germany_Plant       1.0000\n",
              "Germany_H           0.0600\n",
              "Germany_R           0.9900\n",
              "India_Plant         1.0000\n",
              "India_H             1.0000\n",
              "India_R             1.0000\n",
              "Japan_Plant         0.5100\n",
              "Japan_H             0.4000\n",
              "Japan_R             0.4000\n",
              "Mexico_Plant        0.8000\n",
              "Mexico_H            0.8000\n",
              "Mexico_R            0.8000\n",
              "U.S._Plant          0.7400\n",
              "U.S._H              0.7300\n",
              "U.S._R              0.1800\n",
              "dtype: float64"
            ]
          },
          "metadata": {},
          "execution_count": 30
        }
      ]
    },
    {
      "cell_type": "markdown",
      "source": [
        "**Strategy 2**: Keep Japan open but close Mexico\n",
        "```\n",
        "# This is formatted as code\n",
        "```\n",
        "\n"
      ],
      "metadata": {
        "id": "RQdwDnkTX1Ss"
      }
    },
    {
      "cell_type": "code",
      "source": [
        "def frequency_model_2(ex_rates, base_yr = 2019, tariff=0):\n",
        "  # Create a Gurobi model\n",
        "  model = Model(\"MinimizeCost\")\n",
        "\n",
        "  # Assign initial value of decision variables\n",
        "  dec_plant = np.array([[1, 1, 1], # Brazil\n",
        "                      [1, 0, 1], # Germany\n",
        "                      [1, 1, 1], # India\n",
        "                      [1, 1, 1], # Japan\n",
        "                      [0, 0, 0], # Mexico\n",
        "                      [0, 0, 0]], dtype='int64') # U.S.\n",
        "\n",
        "  dec_h     = {(i, j): 0 for i in n_ctry for j in n_ctry}\n",
        "  dec_r     = {(i, j): 0 for i in n_ctry for j in n_ctry}\n",
        "\n",
        "\n",
        "  # Define decision variables\n",
        "  dec_h     = {(i, j): model.addVar(vtype=GRB.CONTINUOUS, lb=0, name=f\"Dec_h_{i}_{j}\") for i in n_ctry for j in n_ctry}\n",
        "  dec_r     = {(i, j): model.addVar(vtype=GRB.CONTINUOUS, lb=0, name=f\"Dec_r_{i}_{j}\") for i in n_ctry for j in n_ctry}\n",
        "\n",
        "  # Excess Capacity constraints\n",
        "  excess_cap = calc_excess_cap(dec_plant, dec_h, dec_r)\n",
        "  for i in n_ctry:\n",
        "      for j in n_lines:\n",
        "          model.addConstr(excess_cap[i, j] >= 0, name=f\"Excess_Cap_Constraints_{i}_{j}\")\n",
        "\n",
        "\n",
        "  # Unmet demand constraints\n",
        "  unnmet_demand = calc_unmet_demand(dec_h, dec_r)\n",
        "  for i in n_ctry:\n",
        "      for j in range(2):\n",
        "          model.addConstr(unnmet_demand[i,j] == 0, name=f\"Unmet_Demand_Constraints_{i}_{j}\")\n",
        "\n",
        "  # Update the model\n",
        "  model.update()\n",
        "\n",
        "  # Set objective function - Total cost = Fixed cost + Variable costs of Highcal and Relax lines\n",
        "  model.setObjective(calc_total_cost(dec_plant, dec_h, dec_r, ex_rates, base_yr, tariff), GRB.MINIMIZE)\n",
        "\n",
        "  # Suppress optimization output\n",
        "  model.Params.OutputFlag = 0\n",
        "\n",
        "  # Optimize the model\n",
        "  model.optimize()\n",
        "\n",
        "  if model.Status == GRB.OPTIMAL:\n",
        "    # Proceed to access .x attributes\n",
        "    pass\n",
        "  else:\n",
        "      print(\"Model not solved optimally. Status:\", model.Status)\n",
        "\n",
        "  # Extract results to print as table\n",
        "  op_plant = pd.DataFrame([[dec_plant[i, j] for j in n_lines] for i in n_ctry], columns = ['Plant','H','R'], index=caps.index) # Removed .x as dec_plant no longer contains decision variables\n",
        "  op_h     = pd.DataFrame([[dec_h[i, j].x for j in n_ctry] for i in n_ctry], columns = tcosts.columns, index=tcosts.index)\n",
        "  op_r     = pd.DataFrame([[dec_r[i, j].x for j in n_ctry] for i in n_ctry], columns = tcosts.columns, index=tcosts.index)\n",
        "\n",
        "  return model.ObjVal, op_plant\n"
      ],
      "metadata": {
        "id": "tPEppxiiX0ag"
      },
      "execution_count": null,
      "outputs": []
    },
    {
      "cell_type": "code",
      "source": [
        "print(\"======================= Frequency Approach =======================\")\n",
        "freq_strategy = sim(100, frequency_model_2)\n",
        "print(f'Expected Strategy Cost = {round(freq_strategy[\"Min_Cost\"].mean(), 3)}\\nCost Standard Deviation = {round(freq_strategy[\"Min_Cost\"].std(), 3)} ')"
      ],
      "metadata": {
        "colab": {
          "base_uri": "https://localhost:8080/"
        },
        "id": "Zbm0OAMsZVJy",
        "outputId": "85c6fc72-f460-4af6-a122-b6458ae860f6"
      },
      "execution_count": null,
      "outputs": [
        {
          "output_type": "stream",
          "name": "stdout",
          "text": [
            "======================= Frequency Approach =======================\n",
            "Expected Strategy Cost = 1217.974\n",
            "Cost Standard Deviation = 43.432 \n"
          ]
        }
      ]
    },
    {
      "cell_type": "markdown",
      "source": [
        "**Strategy 3**: Keep Japan open but US closed\n",
        "\n"
      ],
      "metadata": {
        "id": "qNy1hzZzZaKo"
      }
    },
    {
      "cell_type": "code",
      "source": [
        "def frequency_model_3(ex_rates, base_yr = 2019, tariff=0):\n",
        "  # Create a Gurobi model\n",
        "  model = Model(\"MinimizeCost\")\n",
        "\n",
        "  # Assign initial value of decision variables\n",
        "  dec_plant = np.array([[1, 1, 1], # Brazil\n",
        "                      [1, 0, 1], # Germany\n",
        "                      [1, 1, 1], # India\n",
        "                      [1, 1, 1], # Japan\n",
        "                      [1, 1, 1], # Mexico\n",
        "                      [0, 0, 0]], dtype='int64') # U.S.\n",
        "\n",
        "  dec_h     = {(i, j): 0 for i in n_ctry for j in n_ctry}\n",
        "  dec_r     = {(i, j): 0 for i in n_ctry for j in n_ctry}\n",
        "\n",
        "\n",
        "  # Define decision variables\n",
        "  dec_h     = {(i, j): model.addVar(vtype=GRB.CONTINUOUS, lb=0, name=f\"Dec_h_{i}_{j}\") for i in n_ctry for j in n_ctry}\n",
        "  dec_r     = {(i, j): model.addVar(vtype=GRB.CONTINUOUS, lb=0, name=f\"Dec_r_{i}_{j}\") for i in n_ctry for j in n_ctry}\n",
        "\n",
        "  # Excess Capacity constraints\n",
        "  excess_cap = calc_excess_cap(dec_plant, dec_h, dec_r)\n",
        "  for i in n_ctry:\n",
        "      for j in n_lines:\n",
        "          model.addConstr(excess_cap[i, j] >= 0, name=f\"Excess_Cap_Constraints_{i}_{j}\")\n",
        "\n",
        "\n",
        "  # Unmet demand constraints\n",
        "  unnmet_demand = calc_unmet_demand(dec_h, dec_r)\n",
        "  for i in n_ctry:\n",
        "      for j in range(2):\n",
        "          model.addConstr(unnmet_demand[i,j] == 0, name=f\"Unmet_Demand_Constraints_{i}_{j}\")\n",
        "\n",
        "  # Update the model\n",
        "  model.update()\n",
        "\n",
        "  # Set objective function - Total cost = Fixed cost + Variable costs of Highcal and Relax lines\n",
        "  model.setObjective(calc_total_cost(dec_plant, dec_h, dec_r, ex_rates, base_yr, tariff), GRB.MINIMIZE)\n",
        "\n",
        "  # Suppress optimization output\n",
        "  model.Params.OutputFlag = 0\n",
        "\n",
        "  # Optimize the model\n",
        "  model.optimize()\n",
        "\n",
        "  if model.Status == GRB.OPTIMAL:\n",
        "    # Proceed to access .x attributes\n",
        "    pass\n",
        "  else:\n",
        "      print(\"Model not solved optimally. Status:\", model.Status)\n",
        "\n",
        "  # Extract results to print as table\n",
        "  op_plant = pd.DataFrame([[dec_plant[i, j] for j in n_lines] for i in n_ctry], columns = ['Plant','H','R'], index=caps.index) # Removed .x as dec_plant no longer contains decision variables\n",
        "  op_h     = pd.DataFrame([[dec_h[i, j].x for j in n_ctry] for i in n_ctry], columns = tcosts.columns, index=tcosts.index)\n",
        "  op_r     = pd.DataFrame([[dec_r[i, j].x for j in n_ctry] for i in n_ctry], columns = tcosts.columns, index=tcosts.index)\n",
        "\n",
        "  return model.ObjVal, op_plant\n"
      ],
      "metadata": {
        "id": "F8mXYibrZqKg"
      },
      "execution_count": null,
      "outputs": []
    },
    {
      "cell_type": "code",
      "source": [
        "print(\"======================= Frequency Approach =======================\")\n",
        "freq_strategy = sim(100, frequency_model_3)\n",
        "print(f'Expected Strategy Cost = {round(freq_strategy[\"Min_Cost\"].mean(), 3)}\\nCost Standard Deviation = {round(freq_strategy[\"Min_Cost\"].std(), 3)} ')"
      ],
      "metadata": {
        "colab": {
          "base_uri": "https://localhost:8080/"
        },
        "id": "KXheH06KZyQd",
        "outputId": "6054ef40-9f5f-4bce-c8b6-1d11c4f176ad"
      },
      "execution_count": null,
      "outputs": [
        {
          "output_type": "stream",
          "name": "stdout",
          "text": [
            "======================= Frequency Approach =======================\n",
            "Expected Strategy Cost = 1208.561\n",
            "Cost Standard Deviation = 47.213 \n"
          ]
        }
      ]
    }
  ]
}